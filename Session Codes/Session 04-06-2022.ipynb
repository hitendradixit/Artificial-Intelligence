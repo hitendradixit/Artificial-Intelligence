{
 "cells": [
  {
   "cell_type": "markdown",
   "metadata": {},
   "source": [
    "Resizing the Image"
   ]
  },
  {
   "cell_type": "markdown",
   "metadata": {},
   "source": [
    "1. Retaining the aspect ratio"
   ]
  },
  {
   "cell_type": "code",
   "execution_count": 1,
   "metadata": {},
   "outputs": [],
   "source": [
    "import cv2"
   ]
  },
  {
   "cell_type": "code",
   "execution_count": 3,
   "metadata": {},
   "outputs": [
    {
     "name": "stdout",
     "output_type": "stream",
     "text": [
      "Original Dimensions of the image: (3560, 5360, 3)\n",
      "Resized Image dimensions: (2136, 3216, 3)\n"
     ]
    },
    {
     "data": {
      "text/plain": [
       "True"
      ]
     },
     "execution_count": 3,
     "metadata": {},
     "output_type": "execute_result"
    }
   ],
   "source": [
    "#downscale the image\n",
    "img = cv2.imread(r\"cat.jpg\",1)\n",
    "print(f\"Original Dimensions of the image: {img.shape}\")\n",
    "scale = 60 #percent of original size\n",
    "width = int((img.shape[1] * scale) / 100)\n",
    "height = int((img.shape[0] * scale) / 100)\n",
    "dim = (width, height)\n",
    "#resize image\n",
    "resized = cv2.resize(img, dim, interpolation = cv2.INTER_AREA)\n",
    "\n",
    "print(f\"Resized Image dimensions: {resized.shape}\")\n",
    "\n",
    "cv2.imwrite('cat_resized_downscale.jpeg',resized)"
   ]
  },
  {
   "cell_type": "code",
   "execution_count": 5,
   "metadata": {},
   "outputs": [
    {
     "name": "stdout",
     "output_type": "stream",
     "text": [
      "Original Dimensions of the image: (3560, 5360, 3)\n",
      "Resized Image dimensions: (7120, 10720, 3)\n"
     ]
    },
    {
     "data": {
      "text/plain": [
       "True"
      ]
     },
     "execution_count": 5,
     "metadata": {},
     "output_type": "execute_result"
    }
   ],
   "source": [
    "#upscale the image\n",
    "img = cv2.imread(r\"cat.jpg\",1)\n",
    "print(f\"Original Dimensions of the image: {img.shape}\")\n",
    "scale = 200 #percent of original size\n",
    "width = int((img.shape[1] * scale) / 100)\n",
    "height = int((img.shape[0] * scale) / 100)\n",
    "dim = (width, height)\n",
    "#resize image\n",
    "resized = cv2.resize(img, dim, interpolation = cv2.INTER_AREA)\n",
    "\n",
    "print(f\"Resized Image dimensions: {resized.shape}\")\n",
    "\n",
    "cv2.imwrite('cat_resized_upscale.jpeg',resized)"
   ]
  },
  {
   "cell_type": "markdown",
   "metadata": {},
   "source": [
    "Not Retaining the aspect ratio"
   ]
  },
  {
   "cell_type": "code",
   "execution_count": 7,
   "metadata": {},
   "outputs": [
    {
     "name": "stdout",
     "output_type": "stream",
     "text": [
      "Original dimension: (3560, 5360, 3)\n",
      "Resized Image dimensions: (3560, 440, 3)\n"
     ]
    },
    {
     "data": {
      "text/plain": [
       "True"
      ]
     },
     "execution_count": 7,
     "metadata": {},
     "output_type": "execute_result"
    }
   ],
   "source": [
    "#Resize only the width\n",
    "img = cv2.imread(r\"cat.jpg\", cv2.IMREAD_UNCHANGED)\n",
    "print(f\"Original dimension: {img.shape}\")\n",
    "width = 440\n",
    "height = img.shape[0] #keeping the original height\n",
    "dim = (width, height)\n",
    "#resize image\n",
    "resized = cv2.resize(img, dim, interpolation = cv2.INTER_AREA)\n",
    "\n",
    "print(f\"Resized Image dimensions: {resized.shape}\")\n",
    "\n",
    "cv2.imwrite('cat_resized_width.jpeg',resized)"
   ]
  },
  {
   "cell_type": "code",
   "execution_count": 8,
   "metadata": {},
   "outputs": [
    {
     "name": "stdout",
     "output_type": "stream",
     "text": [
      "Original dimension: (3560, 5360, 3)\n",
      "Resized Image dimensions: (440, 5360, 3)\n"
     ]
    },
    {
     "data": {
      "text/plain": [
       "True"
      ]
     },
     "execution_count": 8,
     "metadata": {},
     "output_type": "execute_result"
    }
   ],
   "source": [
    "#Resize only the height\n",
    "img = cv2.imread(r\"cat.jpg\", cv2.IMREAD_UNCHANGED)\n",
    "print(f\"Original dimension: {img.shape}\")\n",
    "height = 440\n",
    "width = img.shape[1] #keeping the original height\n",
    "dim = (width, height)\n",
    "#resize image\n",
    "resized = cv2.resize(img, dim, interpolation = cv2.INTER_AREA)\n",
    "\n",
    "print(f\"Resized Image dimensions: {resized.shape}\")\n",
    "\n",
    "cv2.imwrite('cat_resized_height.jpeg',resized)"
   ]
  },
  {
   "cell_type": "markdown",
   "metadata": {},
   "source": [
    "Specify both width and height"
   ]
  },
  {
   "cell_type": "code",
   "execution_count": 9,
   "metadata": {},
   "outputs": [
    {
     "name": "stdout",
     "output_type": "stream",
     "text": [
      "Original dimension: (3560, 5360, 3)\n",
      "Resized Image dimensions: (450, 350, 3)\n"
     ]
    },
    {
     "data": {
      "text/plain": [
       "True"
      ]
     },
     "execution_count": 9,
     "metadata": {},
     "output_type": "execute_result"
    }
   ],
   "source": [
    "#specify both the height and width\n",
    "img = cv2.imread(r\"cat.jpg\", cv2.IMREAD_UNCHANGED)\n",
    "print(f\"Original dimension: {img.shape}\")\n",
    "height = 450\n",
    "width = 350 #keeping the original height\n",
    "dim = (width, height)\n",
    "#resize image\n",
    "resized = cv2.resize(img, dim, interpolation = cv2.INTER_AREA)\n",
    "\n",
    "print(f\"Resized Image dimensions: {resized.shape}\")\n",
    "\n",
    "cv2.imwrite('cat_resized_both.jpeg',resized)"
   ]
  },
  {
   "cell_type": "markdown",
   "metadata": {},
   "source": [
    "Image Rotation"
   ]
  },
  {
   "cell_type": "code",
   "execution_count": 10,
   "metadata": {},
   "outputs": [
    {
     "data": {
      "text/plain": [
       "True"
      ]
     },
     "execution_count": 10,
     "metadata": {},
     "output_type": "execute_result"
    }
   ],
   "source": [
    "img = cv2.imread(r\"Sample1.jpg\")\n",
    "(h, w) = img.shape[:2]\n",
    "center = (w/2, h/2)\n",
    "angle90 = 90\n",
    "angle180= 180\n",
    "angle270 = 270\n",
    "scale = 1.0\n",
    "M = cv2.getRotationMatrix2D(center, angle90, scale)\n",
    "rotated90 = cv2.warpAffine(img, M, (h,w))\n",
    "\n",
    "M = cv2.getRotationMatrix2D(center, angle180, scale)\n",
    "rotated180 = cv2.warpAffine(img, M, (h,w))\n",
    "\n",
    "M = cv2.getRotationMatrix2D(center, angle270, scale)\n",
    "rotated270 = cv2.warpAffine(img, M, (h,w))\n",
    "\n",
    "cv2.imwrite(\"sample1_90.jpeg\", rotated90)\n",
    "cv2.imwrite(\"sample1_180.jpeg\", rotated180)\n",
    "cv2.imwrite(\"sample1_270.jpeg\", rotated270)"
   ]
  },
  {
   "cell_type": "markdown",
   "metadata": {},
   "source": [
    "Drawing the shapes"
   ]
  },
  {
   "cell_type": "code",
   "execution_count": 13,
   "metadata": {},
   "outputs": [
    {
     "data": {
      "text/plain": [
       "True"
      ]
     },
     "execution_count": 13,
     "metadata": {},
     "output_type": "execute_result"
    }
   ],
   "source": [
    "#drawing a circle\n",
    "img = cv2.imread(r\"cat.jpg\",1)\n",
    "k = cv2.circle(img, (800,40), 55, (0, 255, 0), -1)\n",
    "cv2.imwrite(\"cat_circle.jpeg\", k)"
   ]
  },
  {
   "cell_type": "code",
   "execution_count": 16,
   "metadata": {},
   "outputs": [
    {
     "data": {
      "text/plain": [
       "True"
      ]
     },
     "execution_count": 16,
     "metadata": {},
     "output_type": "execute_result"
    }
   ],
   "source": [
    "#drawing a rectangle\n",
    "img = cv2.imread(r\"cat.jpg\",1)\n",
    "k = cv2.rectangle(img, (15,25), (200,150), (255,0,0), 15)\n",
    "cv2.imwrite(\"cat_rectangle.jpeg\", k)"
   ]
  },
  {
   "cell_type": "markdown",
   "metadata": {},
   "source": [
    "Adding Text to image"
   ]
  },
  {
   "cell_type": "code",
   "execution_count": 18,
   "metadata": {},
   "outputs": [
    {
     "data": {
      "text/plain": [
       "True"
      ]
     },
     "execution_count": 18,
     "metadata": {},
     "output_type": "execute_result"
    }
   ],
   "source": [
    "font = cv2.FONT_HERSHEY_SIMPLEX\n",
    "img = cv2.imread(r\"cat.jpg\",1)\n",
    "k = cv2.putText(img, \"Hello\", (10,500),font, 1, (255, 0, 0), 2)\n",
    "cv2.imwrite(\"cat_text.jpeg\", k)"
   ]
  },
  {
   "cell_type": "markdown",
   "metadata": {},
   "source": [
    "Drawing Polylines"
   ]
  },
  {
   "cell_type": "code",
   "execution_count": 20,
   "metadata": {},
   "outputs": [
    {
     "data": {
      "text/plain": [
       "True"
      ]
     },
     "execution_count": 20,
     "metadata": {},
     "output_type": "execute_result"
    }
   ],
   "source": [
    "import numpy as np\n",
    "img = cv2.imread(r\"par.jpg\",cv2.IMREAD_COLOR)\n",
    "\n",
    "#defining points for polylines\n",
    "\n",
    "pts = np.array([[100,50], [200, 300], [700, 200], [500, 100]], np.int32)\n",
    "pts = pts.reshape((-1, 1, 2))\n",
    "\n",
    "#Drawing the polylines\n",
    "k = cv2.polylines(img, [pts], True, (250, 0, 0),5)\n",
    "cv2.imwrite(\"par_ploylines.jpeg\", k)"
   ]
  },
  {
   "cell_type": "markdown",
   "metadata": {},
   "source": [
    "Canny Edge Detection"
   ]
  },
  {
   "cell_type": "code",
   "execution_count": 27,
   "metadata": {},
   "outputs": [
    {
     "data": {
      "text/plain": [
       "True"
      ]
     },
     "execution_count": 27,
     "metadata": {},
     "output_type": "execute_result"
    }
   ],
   "source": [
    "#without L2 gradient true\n",
    "img = cv2.imread(r\"flower.jpg\",1)\n",
    "edges = cv2.Canny(img, 100, 200)\n",
    "cv2.imwrite(\"flower_canny_edges.jpeg\", edges)"
   ]
  },
  {
   "cell_type": "code",
   "execution_count": 26,
   "metadata": {},
   "outputs": [
    {
     "data": {
      "text/plain": [
       "True"
      ]
     },
     "execution_count": 26,
     "metadata": {},
     "output_type": "execute_result"
    }
   ],
   "source": [
    "#with L2 gradient true\n",
    "img = cv2.imread(r\"flower.jpg\",1)\n",
    "edges = cv2.Canny(img, 100, 200, L2gradient = True)\n",
    "cv2.imwrite(\"flower_canny_edges_true.jpeg\", edges)"
   ]
  },
  {
   "cell_type": "markdown",
   "metadata": {},
   "source": [
    "Blurring the Image"
   ]
  },
  {
   "cell_type": "code",
   "execution_count": 31,
   "metadata": {},
   "outputs": [
    {
     "data": {
      "text/plain": [
       "True"
      ]
     },
     "execution_count": 31,
     "metadata": {},
     "output_type": "execute_result"
    }
   ],
   "source": [
    "#Using Averaging Blur\n",
    "img = cv2.imread(r\"dog.jpg\",1)\n",
    "k = cv2.blur(img, (10,10))\n",
    "cv2.imwrite(\"dog_averaging.jpeg\", k)"
   ]
  },
  {
   "cell_type": "code",
   "execution_count": 42,
   "metadata": {},
   "outputs": [
    {
     "data": {
      "text/plain": [
       "True"
      ]
     },
     "execution_count": 42,
     "metadata": {},
     "output_type": "execute_result"
    }
   ],
   "source": [
    "#Using Median Blur\n",
    "img = cv2.imread(r\"dog.jpg\",1)\n",
    "dst = median = cv2.medianBlur(img,11) #should be an odd number\n",
    "k = np.hstack((img,dst)) \n",
    "cv2.imwrite(\"dog_meadian.jpeg\",k)"
   ]
  },
  {
   "cell_type": "code",
   "execution_count": 44,
   "metadata": {},
   "outputs": [
    {
     "data": {
      "text/plain": [
       "True"
      ]
     },
     "execution_count": 44,
     "metadata": {},
     "output_type": "execute_result"
    }
   ],
   "source": [
    "#Using Gausssian Blur\n",
    "img = cv2.imread(r\"dog.jpg\",1)\n",
    "dst = cv2.GaussianBlur(img, (5, 5), cv2.BORDER_DEFAULT)  #should be an odd number\n",
    "k = np.hstack((img,dst)) \n",
    "cv2.imwrite(\"dog_gaussian.jpeg\",k)"
   ]
  }
 ],
 "metadata": {
  "interpreter": {
   "hash": "2c4a0e462d5eb47ccb02ab75c092febb222556232e160fc793b5c239a0fdd870"
  },
  "kernelspec": {
   "display_name": "Python 3.10.0 64-bit",
   "language": "python",
   "name": "python3"
  },
  "language_info": {
   "codemirror_mode": {
    "name": "ipython",
    "version": 3
   },
   "file_extension": ".py",
   "mimetype": "text/x-python",
   "name": "python",
   "nbconvert_exporter": "python",
   "pygments_lexer": "ipython3",
   "version": "3.10.0"
  },
  "orig_nbformat": 4
 },
 "nbformat": 4,
 "nbformat_minor": 2
}
